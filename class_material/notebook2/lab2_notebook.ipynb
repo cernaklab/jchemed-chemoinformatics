{
 "cells": [
  {
   "cell_type": "markdown",
   "metadata": {
    "id": "653lfAUlCDzx"
   },
   "source": [
    "## **PART 1**"
   ]
  },
  {
   "cell_type": "code",
   "execution_count": null,
   "metadata": {
    "id": "CiiKrvVxyRLz"
   },
   "outputs": [],
   "source": [
    "import numpy as np\n",
    "import pandas as pd\n",
    "import matplotlib.pyplot as plt\n",
    "\n",
    "# Drag and drop \"activity_data_with_props.csv\" into the file system to the left!"
   ]
  },
  {
   "cell_type": "markdown",
   "metadata": {
    "id": "fkNycQwfBH-O"
   },
   "source": [
    "**1B** load the activity data CSV. "
   ]
  },
  {
   "cell_type": "code",
   "execution_count": null,
   "metadata": {
    "id": "lEo1LyECBGPE"
   },
   "outputs": [],
   "source": [
    "data = pd.read_csv(\"activity_data_with_props.csv\")"
   ]
  },
  {
   "cell_type": "markdown",
   "metadata": {
    "id": "7d2_pPphBL2l"
   },
   "source": [
    "inspect the data. use the .head() function to get a quick look"
   ]
  },
  {
   "cell_type": "code",
   "execution_count": null,
   "metadata": {
    "id": "a1vhKdx0BP-7"
   },
   "outputs": [],
   "source": [
    "data.head()"
   ]
  },
  {
   "cell_type": "code",
   "execution_count": null,
   "metadata": {
    "id": "pIoNvTkfUF8I"
   },
   "outputs": [],
   "source": [
    "len(data)"
   ]
  },
  {
   "cell_type": "markdown",
   "metadata": {
    "id": "-GSGL3FDiNp3"
   },
   "source": [
    "Let's remove the molecules with no inhibition data"
   ]
  },
  {
   "cell_type": "code",
   "execution_count": null,
   "metadata": {
    "id": "Ej9ibM0liJdG"
   },
   "outputs": [],
   "source": [
    "data_cleaned = data.dropna(subset=['f_avg_IC50'])\n",
    "data_cleaned.head()"
   ]
  },
  {
   "cell_type": "markdown",
   "metadata": {
    "id": "EYS_UofmT2jz"
   },
   "source": [
    "**1D** How many molecules did we remove?"
   ]
  },
  {
   "cell_type": "code",
   "execution_count": null,
   "metadata": {
    "id": "YaoTR9_ATaI_"
   },
   "outputs": [],
   "source": []
  },
  {
   "cell_type": "markdown",
   "metadata": {
    "id": "ra_1RIYPCoq1"
   },
   "source": [
    "## **Part 2**"
   ]
  },
  {
   "cell_type": "markdown",
   "metadata": {
    "id": "_WpkMIGU6-rF"
   },
   "source": [
    "As a review, let's validate GSK's Solubility Forecast Index using a scatter plot. Recall it states that Solubility is a function of LogP and AROM."
   ]
  },
  {
   "cell_type": "code",
   "execution_count": null,
   "metadata": {
    "id": "HUOrzwo78O9h"
   },
   "outputs": [],
   "source": [
    "LOGP = data_cleaned['LogP'] # Log Partition Coefficient \n",
    "PSA = data_cleaned['PSA'] # Polar Surface Area\n",
    "MW = data_cleaned['MW'] # Molecular Weight\n",
    "QED = data_cleaned['QED'] # Quantitative Estimate of Druglikeness\n",
    "HBD = data_cleaned['HBD'] # Hydrogen Bond Donors\n",
    "HBA = data_cleaned['HBA'] # Hydrogen Bond Acceptors\n",
    "ROTB = data_cleaned['ROTB'] # Rotatable Bonds\n",
    "AROM = data_cleaned['AROM'] # Num Aromatic Rings\n",
    "FSP3 = data_cleaned['FSP3'] # Fraction sp3\n",
    "Solubility = data_cleaned['relative_solubility_at_100_uM']\n",
    "IC50 = data_cleaned['f_avg_IC50'] # IC50 of Molecule"
   ]
  },
  {
   "cell_type": "code",
   "execution_count": null,
   "metadata": {
    "id": "ZpOt4oHvLCF5"
   },
   "outputs": [],
   "source": [
    "#create and save a scatter plot of logp vs arom here:\n",
    "\n"
   ]
  },
  {
   "cell_type": "markdown",
   "metadata": {
    "id": "9-AvpYdgJIvp"
   },
   "source": [
    "**2C/2D)** Let do some basic statistics on the data."
   ]
  },
  {
   "cell_type": "code",
   "execution_count": null,
   "metadata": {
    "id": "3UrKlWoQHtQ5"
   },
   "outputs": [],
   "source": [
    "import matplotlib.pyplot as plt\n",
    "fig, ax = plt.subplots(2,5)\n",
    "\n",
    "features = [\"LogP\", \"HBD\", \"HBA\", \"PSA\", \"ROTB\", \"AROM\", \"FSP3\", \"QED\", \"MW\", \"FC\"]\n",
    "\n",
    "i = 0\n",
    "for k in ax.flatten():\n",
    "  k.boxplot(data[features[i]])\n",
    "  k.set_xticks([])\n",
    "  k.set_xlabel(features[i])\n",
    "  mean = np.mean(data[features[i]])\n",
    "  std = np.std(data[features[i]])\n",
    "  print(f'{features[i]} - avg: {mean} +/- {std}')\n",
    "  i = i + 1\n",
    "\n",
    "plt.tight_layout()\n",
    "# plt.boxplot([data[\"MW\"], data[\"LogP\"]])"
   ]
  },
  {
   "cell_type": "markdown",
   "metadata": {
    "id": "0W-xbHWxKOCX"
   },
   "source": [
    "## **Part 3:** Lets visualize the data. PCA dimension reductionality."
   ]
  },
  {
   "cell_type": "code",
   "execution_count": null,
   "metadata": {
    "id": "iETStXVGB3M4"
   },
   "outputs": [],
   "source": [
    "from sklearn.decomposition import PCA\n",
    "import matplotlib.pyplot as plt\n",
    "\n",
    "features = [\"MW\", \"LogP\", \"HBA\", \"HBD\",\"PSA\"]\n",
    "input_data = data[features]\n",
    "print(input_data)\n",
    "\n",
    "X = PCA(n_components=2).fit_transform(input_data)\n",
    "plt.scatter(X[:,0],X[:,1],c=data['LogP'])\n",
    "plt.show()"
   ]
  },
  {
   "cell_type": "markdown",
   "metadata": {
    "id": "FdABlY_G11bO"
   },
   "source": [
    "**3B** Filter out nonlipinski drugs, plot. Make your own feature set and plot. Pandas loc documentation: \n",
    "https://pandas.pydata.org/docs/reference/api/pandas.DataFrame.loc.html"
   ]
  },
  {
   "cell_type": "code",
   "execution_count": null,
   "metadata": {
    "id": "OPdENQJKLB63"
   },
   "outputs": [],
   "source": [
    "# complete this line of code to filter out nonlipinski drugs\n",
    "lipinski_compliant_drugs = data.loc[data[\"MW\"] < 500 ... ]"
   ]
  },
  {
   "cell_type": "code",
   "execution_count": null,
   "metadata": {
    "id": "GHAte6Y6MA0n"
   },
   "outputs": [],
   "source": [
    "features = [\"MW\", \"LogP\", \"HBA\", \"HBD\",\"PSA\"]\n",
    "lipinski_X = PCA(n_components=2).fit_transform(lipinski_compliant_drugs[features])"
   ]
  },
  {
   "cell_type": "code",
   "execution_count": null,
   "metadata": {
    "id": "xanLYbspOfQD"
   },
   "outputs": [],
   "source": [
    "# complete this line of code to plot the lipinski filtered PCA\n",
    "plt.scatter(...)\n",
    "plt.show()"
   ]
  },
  {
   "cell_type": "markdown",
   "metadata": {
    "id": "J126uyUgOoLm"
   },
   "source": [
    "**4**"
   ]
  },
  {
   "cell_type": "code",
   "execution_count": null,
   "metadata": {
    "id": "WBaqruQ-5spU"
   },
   "outputs": [],
   "source": [
    "import altair as alt\n",
    "\n",
    "lipinski_compliant_drugs[\"X\"] = lipinski_X[:,0]\n",
    "lipinski_compliant_drugs[\"Y\"] = lipinski_X[:,1]\n",
    "alt.Chart(lipinski_compliant_drugs).mark_circle(size=60).encode(\n",
    "    x=\"X\",\n",
    "    y=\"Y\",\n",
    "    color=alt.Color('f_avg_IC50', scale=alt.Scale(scheme='viridis')),\n",
    "    tooltip=['SMILES', 'CID', 'f_avg_IC50', \"MW\", \"LogP\", \"HBA\", \"HBD\",\"PSA\"],\n",
    ").interactive()"
   ]
  }
 ],
 "metadata": {
  "colab": {
   "collapsed_sections": [],
   "name": "lab5notebook.ipynb",
   "provenance": []
  },
  "kernelspec": {
   "display_name": "Python 3 (ipykernel)",
   "language": "python",
   "name": "python3"
  },
  "language_info": {
   "codemirror_mode": {
    "name": "ipython",
    "version": 3
   },
   "file_extension": ".py",
   "mimetype": "text/x-python",
   "name": "python",
   "nbconvert_exporter": "python",
   "pygments_lexer": "ipython3",
   "version": "3.9.7"
  }
 },
 "nbformat": 4,
 "nbformat_minor": 4
}
