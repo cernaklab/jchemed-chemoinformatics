{
 "cells": [
  {
   "cell_type": "code",
   "execution_count": 168,
   "id": "29ec2357-9036-4f86-aee9-59a2a4189583",
   "metadata": {},
   "outputs": [],
   "source": [
    "from rdkit import Chem\n",
    "from rdkit.Chem import Descriptors, QED\n",
    "\n",
    "\n",
    "def calculate_lipinski_properties(smiles):\n",
    "    # Create a molecule object from the SMILES string\n",
    "    mol = Chem.MolFromSmiles(smiles)\n",
    "\n",
    "    # Calculate the Lipinski properties\n",
    "    molecular_weight = Descriptors.MolWt(mol)\n",
    "    num_hydrogen_bond_donors = Descriptors.NumHDonors(mol)\n",
    "    num_hydrogen_bond_acceptors = Descriptors.NumHAcceptors(mol)\n",
    "    logp = Descriptors.MolLogP(mol)\n",
    "    qed_value = QED.qed(mol)\n",
    "    \n",
    "    # Determine if the molecule satisfies Lipinski's Rule of Five\n",
    "    is_pass = (\n",
    "        molecular_weight <= 500 and\n",
    "        num_hydrogen_bond_donors <= 5 and\n",
    "        num_hydrogen_bond_acceptors <= 10 and\n",
    "        logp <= 5\n",
    "    )\n",
    "\n",
    "    # Return the Lipinski properties as a dictionary\n",
    "    lipinski_properties = {\n",
    "        'MW': molecular_weight,\n",
    "        'HBD': num_hydrogen_bond_donors,\n",
    "        'HBA': num_hydrogen_bond_acceptors,\n",
    "        'LogP': logp,\n",
    "        'QED': qed_value\n",
    "    }\n",
    "\n",
    "    return lipinski_properties"
   ]
  },
  {
   "cell_type": "code",
   "execution_count": 117,
   "id": "c2c285d6-4db2-4524-9bff-2a655f1c4d44",
   "metadata": {},
   "outputs": [],
   "source": [
    "import matplotlib.pyplot as plt\n",
    "import matplotlib.font_manager as fm\n",
    "def create_bar_chart(lipinski_properties, title):\n",
    "    # Extract the property names and values from the dictionary\n",
    "    properties = list(lipinski_properties.keys())\n",
    "    values = list(lipinski_properties.values())\n",
    "\n",
    "    # Set the font properties\n",
    "    font_path = fm.findfont(fm.FontProperties(family='Arial'))\n",
    "    font_prop = fm.FontProperties(fname=font_path, size=6)\n",
    "\n",
    "    # Create subplots with tight layout\n",
    "    fig, ax = plt.subplots(figsize=(3, 2), tight_layout=True)\n",
    "\n",
    "    # Create a bar chart\n",
    "    ax.bar(properties, values, color='grey')\n",
    "\n",
    "    # Set the x-axis label rotation\n",
    "    plt.xticks(rotation=45, ha='right')\n",
    "\n",
    "    # Set the labels and title\n",
    "    ax.set_xlabel('Lipinski Property', fontproperties=font_prop)\n",
    "    ax.set_ylabel('Value', fontproperties=font_prop)\n",
    "    ax.set_title('Lipinski Properties', fontproperties=font_prop)\n",
    "\n",
    "    # Set the font size for tick labels\n",
    "    ax.tick_params(axis='both', labelsize=6)\n",
    "    ax.set_yscale('log')\n",
    "    # Display the chart\n",
    "    plt.savefig(title, dpi=900, bbox_inches=0)"
   ]
  },
  {
   "cell_type": "code",
   "execution_count": 299,
   "id": "31691f85-26ad-474f-83bf-9e36fec394a8",
   "metadata": {},
   "outputs": [],
   "source": [
    "import matplotlib.pyplot as plt\n",
    "import numpy as np\n",
    "\n",
    "\n",
    "def create_radar_plot(lipinski_properties, min_values, max_values, title, color):\n",
    "    # Extract the property names and values from the dictionary\n",
    "    properties = list(lipinski_properties.keys())\n",
    "    values = list(lipinski_properties.values())\n",
    "\n",
    "    # Normalize the values to the range of 0 to 1 using the provided minimum and maximum values\n",
    "    normalized_values = [(value - min_val) / (max_val - min_val) for value, min_val, max_val in zip(values, min_values, max_values)]\n",
    "\n",
    "    # Create a list of angles for each property\n",
    "    angles = np.linspace(0, 2 * np.pi, len(properties), endpoint=False).tolist()\n",
    "    angles += angles[:1]  # Close the loop\n",
    "\n",
    "    # Create a list of values for each property\n",
    "    normalized_values += normalized_values[:1]  # Close the loop\n",
    "\n",
    "    # Number of radial ticks\n",
    "    num_ticks = 3\n",
    "\n",
    "    # Create the radar plot\n",
    "    fig, ax = plt.subplots(figsize=(1.5, 1.5), subplot_kw={'projection': 'polar'})\n",
    "    ax.fill(angles, normalized_values, color=color, alpha=0.6)\n",
    "\n",
    "    # Set the labels and title\n",
    "    ax.set_xticks(angles[:-1])\n",
    "    ax.set_xticklabels(properties, fontsize=6, fontfamily='arial')\n",
    "    print(np.linspace(min_values[0], max_values[0], num_ticks))\n",
    "    print(np.linspace(min_values[1], max_values[1], num_ticks))\n",
    "    print(np.linspace(min_values[2], max_values[2], num_ticks))\n",
    "    print(np.linspace(min_values[3], max_values[3], num_ticks))\n",
    "    print(np.linspace(min_values[4], max_values[4], num_ticks))\n",
    "\n",
    "    ax.set_yticks(np.linspace(0, 1, num_ticks))  # Set the radial ticks to 5 evenly spaced values from 0 to 1\n",
    "    ax.set_yticklabels([])  # Show corresponding y-axis labels\n",
    "\n",
    "    # Display the plot\n",
    "    plt.tight_layout()\n",
    "    plt.savefig(title, dpi=900, bbox_inches=0)\n",
    "    plt.show()"
   ]
  },
  {
   "cell_type": "code",
   "execution_count": 339,
   "id": "22490b0a-8b6e-470d-92b4-2c80663a96ac",
   "metadata": {},
   "outputs": [],
   "source": [
    "min_values = [0, 0, 0, -2, 0]\n",
    "max_values = [1000, 10, 20, 12, 1]"
   ]
  },
  {
   "cell_type": "code",
   "execution_count": 340,
   "id": "1573c7a4-066f-42ee-a8c0-2c4a2acf7d40",
   "metadata": {},
   "outputs": [],
   "source": [
    "out1 = calculate_lipinski_properties(\"FC1=CC(C[C@H](N)CC(N2CCN3C(C2)=NN=C3C(F)(F)F)=O)=C(F)C=C1F\")"
   ]
  },
  {
   "cell_type": "code",
   "execution_count": 341,
   "id": "09e60ffe-b575-422a-8244-b5b4e5e42b75",
   "metadata": {},
   "outputs": [
    {
     "name": "stdout",
     "output_type": "stream",
     "text": [
      "{'MW': 407.318, 'HBD': 1, 'HBA': 5, 'LogP': 2.0164999999999997, 'QED': 0.6216377742511344}\n"
     ]
    }
   ],
   "source": [
    "print(out1)"
   ]
  },
  {
   "cell_type": "code",
   "execution_count": 342,
   "id": "bce2c7d5-8ddd-48ad-bf87-7fedefe777a4",
   "metadata": {},
   "outputs": [
    {
     "name": "stdout",
     "output_type": "stream",
     "text": [
      "[   0.  500. 1000.]\n",
      "[ 0.  5. 10.]\n",
      "[ 0. 10. 20.]\n",
      "[-2.  5. 12.]\n",
      "[0.  0.5 1. ]\n"
     ]
    },
    {
     "data": {
      "image/png": "[encoded data removed]",
      "text/plain": [
       "<Figure size 108x108 with 1 Axes>"
      ]
     },
     "metadata": {
      "needs_background": "light"
     },
     "output_type": "display_data"
    }
   ],
   "source": [
    "create_radar_plot(out1, min_values, max_values, \"januvia.png\", \"#0B1B82\")"
   ]
  },
  {
   "cell_type": "code",
   "execution_count": 343,
   "id": "0a2ee6d7-1d8c-4b2f-b9e8-1c652b82115f",
   "metadata": {},
   "outputs": [],
   "source": [
    "out2 = calculate_lipinski_properties(\"ClC1=CC(NC2=C3C(C=C(OC)C(OCCCN4CCOCC4)=C3)=NC=N2)=CC=C1F\")"
   ]
  },
  {
   "cell_type": "code",
   "execution_count": 344,
   "id": "b1aeef29-39ae-48e5-9bda-10bfe2df585d",
   "metadata": {},
   "outputs": [
    {
     "name": "stdout",
     "output_type": "stream",
     "text": [
      "[   0.  500. 1000.]\n",
      "[ 0.  5. 10.]\n",
      "[ 0. 10. 20.]\n",
      "[-2.  5. 12.]\n",
      "[0.  0.5 1. ]\n"
     ]
    },
    {
     "data": {
      "image/png": "[encoded data removed]",
      "text/plain": [
       "<Figure size 108x108 with 1 Axes>"
      ]
     },
     "metadata": {
      "needs_background": "light"
     },
     "output_type": "display_data"
    }
   ],
   "source": [
    "create_radar_plot(out2, min_values, max_values, \"gefitinib.png\", \"#89319C\")"
   ]
  },
  {
   "cell_type": "code",
   "execution_count": 345,
   "id": "53dd035c-e3de-48e5-8d04-c75b62387e49",
   "metadata": {},
   "outputs": [],
   "source": [
    "out3 = calculate_lipinski_properties(\"O[C@@H]1CC[C@@H](C[C@H]([C@@H]2CC([C@@H](/C=C([C@H]([C@H](C([C@@H](C[C@@H](/C=C/C=C/C=C([C@H](C[C@@H]3CC[C@H]([C@@](O3)(C(C(N4CCCC[C@H]4C(O2)=O)=O)=O)O)C)OC)\\C)C)C)=O)OC)O)\\C)C)=O)C)C[C@H]1OC\")"
   ]
  },
  {
   "cell_type": "code",
   "execution_count": 346,
   "id": "f092b9b1-bc7b-48f4-a059-5d86b1378de7",
   "metadata": {},
   "outputs": [
    {
     "name": "stdout",
     "output_type": "stream",
     "text": [
      "[   0.  500. 1000.]\n",
      "[ 0.  5. 10.]\n",
      "[ 0. 10. 20.]\n",
      "[-2.  5. 12.]\n",
      "[0.  0.5 1. ]\n"
     ]
    },
    {
     "data": {
      "image/png": "[encoded data removed]",
      "text/plain": [
       "<Figure size 108x108 with 1 Axes>"
      ]
     },
     "metadata": {
      "needs_background": "light"
     },
     "output_type": "display_data"
    }
   ],
   "source": [
    "create_radar_plot(out3,min_values, max_values,\"rapamycin.png\", \"#D97461\")"
   ]
  },
  {
   "cell_type": "code",
   "execution_count": 347,
   "id": "21bcb9a4-bb37-49d8-ad21-c1749b4d3b30",
   "metadata": {},
   "outputs": [],
   "source": [
    "out4 = calculate_lipinski_properties(\"O=C(NS(C1=CC(S(=O)(C(F)(F)F)=O)=C(N[C@H](CCN2CCOCC2)CSC3=CC=CC=C3)C=C1)(=O)=O)C(C=C4)=CC=C4N(CC5)CCN5CC(C6)=C(C7=CC=C(Cl)C=C7)CCC6(C)C\")"
   ]
  },
  {
   "cell_type": "code",
   "execution_count": 348,
   "id": "aeaf6801-30d4-4b56-82c6-929c07326955",
   "metadata": {},
   "outputs": [
    {
     "name": "stdout",
     "output_type": "stream",
     "text": [
      "[   0.  500. 1000.]\n",
      "[ 0.  5. 10.]\n",
      "[ 0. 10. 20.]\n",
      "[-2.  5. 12.]\n",
      "[0.  0.5 1. ]\n"
     ]
    },
    {
     "data": {
      "image/png": "[encoded data removed]",
      "text/plain": [
       "<Figure size 108x108 with 1 Axes>"
      ]
     },
     "metadata": {
      "needs_background": "light"
     },
     "output_type": "display_data"
    }
   ],
   "source": [
    "create_radar_plot(out4, min_values, max_values, \"navitoclax.png\", \"#F2F758\")"
   ]
  },
  {
   "cell_type": "code",
   "execution_count": 349,
   "id": "00b641db-e984-449f-9394-6cc183013955",
   "metadata": {},
   "outputs": [
    {
     "data": {
      "image/png": "[encoded data removed]",
      "text/plain": [
       "<Figure size 216x216 with 1 Axes>"
      ]
     },
     "metadata": {
      "needs_background": "light"
     },
     "output_type": "display_data"
    }
   ],
   "source": [
    "font_path = fm.findfont(fm.FontProperties(family='Arial'))\n",
    "font_prop = fm.FontProperties(fname=font_path, size=6)\n",
    "\n",
    "# Create subplots with tight layout\n",
    "fig, ax = plt.subplots(figsize=(3, 3), tight_layout=True)\n",
    "\n",
    "# Create a bar chart\n",
    "\n",
    "properties = [out1[\"LogP\"], out2[\"LogP\"], out3[\"LogP\"], out4[\"LogP\"]]\n",
    "values = [out1[\"MW\"], out2[\"MW\"], out3[\"MW\"], out4[\"MW\"]]\n",
    "n = 325\n",
    "size = [out1[\"QED\"]*n, out2[\"QED\"]*n, out3[\"QED\"]*n, out4[\"QED\"]*n]\n",
    "\n",
    "\n",
    "ax.scatter(properties, values, color=[\"#0B1B82\", \"#89319C\", \"#D97461\", \"#F2F758\"], s=size, alpha=0.6)\n",
    "\n",
    "# Set the x-axis label rotation\n",
    "plt.xticks(rotation=45, ha='right')\n",
    "\n",
    "# Set the labels and title\n",
    "ax.set_xlabel('LogP', fontproperties=font_prop)\n",
    "ax.set_ylabel('MW', fontproperties=font_prop)\n",
    "ax.set_title('Molecular Weight (MW) vs Partition Coefficient (LogP)\\n sized by QED', fontproperties=font_prop)\n",
    "\n",
    "ax.vlines(5, ymin=0, ymax=1050, color='gray')\n",
    "ax.set_ylim([350, 1050])\n",
    "\n",
    "ax.hlines(500, xmin=-3, xmax=15, color='gray')\n",
    "ax.set_xlim([-3, 15])\n",
    "\n",
    "\n",
    "# Set the font size for tick labels\n",
    "ax.tick_params(axis='both', labelsize=6)\n",
    "# ax.set_yscale('log')\n",
    "# Display the chart\n",
    "plt.savefig(\"scatter.png\", dpi=900, bbox_inches=0)"
   ]
  },
  {
   "cell_type": "code",
   "execution_count": null,
   "id": "69f2dd7d-4435-4cba-b49f-7b15e416e54b",
   "metadata": {},
   "outputs": [],
   "source": []
  },
  {
   "cell_type": "code",
   "execution_count": null,
   "id": "25470194-6e51-4fe5-b537-6ab4b93d8d33",
   "metadata": {},
   "outputs": [],
   "source": []
  }
 ],
 "metadata": {
  "kernelspec": {
   "display_name": "Python 3 (ipykernel)",
   "language": "python",
   "name": "python3"
  },
  "language_info": {
   "codemirror_mode": {
    "name": "ipython",
    "version": 3
   },
   "file_extension": ".py",
   "mimetype": "text/x-python",
   "name": "python",
   "nbconvert_exporter": "python",
   "pygments_lexer": "ipython3",
   "version": "3.9.7"
  }
 },
 "nbformat": 4,
 "nbformat_minor": 5
}
