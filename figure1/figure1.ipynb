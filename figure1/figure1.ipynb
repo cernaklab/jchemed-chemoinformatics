{
 "cells": [
  {
   "cell_type": "code",
   "execution_count": 42,
   "id": "183a104d-3ba7-40fd-9637-1e48ccbaaee5",
   "metadata": {},
   "outputs": [
    {
     "data": {
      "image/png": "[encoded data removed]",
      "text/plain": [
       "<Figure size 90x90 with 1 Axes>"
      ]
     },
     "metadata": {
      "needs_background": "light"
     },
     "output_type": "display_data"
    }
   ],
   "source": [
    "import matplotlib\n",
    "import matplotlib.pyplot as plt\n",
    "\n",
    "asdf = [1,2,3]\n",
    "qwer = [3,5,6]\n",
    "\n",
    "fig, ax = plt.subplots(figsize=(1.25,1.25))\n",
    "\n",
    "ax.scatter(\n",
    "    x = asdf,\n",
    "    y = qwer,\n",
    "    # s = 275,\n",
    "    # color = \"#ffcb05\"\n",
    ")\n",
    "\n",
    "# ax.set_facecolor(\"#00274c\")\n",
    "# plt.show()\n",
    "ax.set_xticks(ax.get_xticks())\n",
    "ax.set_yticks(ax.get_yticks())\n",
    "ax.set_xticklabels(ax.get_xticks(), fontsize=6, fontfamily=\"arial\")\n",
    "ax.set_yticklabels(ax.get_yticks(), fontsize=6, fontfamily=\"arial\")\n",
    "plt.subplots_adjust(wspace=0, hspace=0)\n",
    "\n",
    "plt.savefig(\"a.png\", dpi=300, bbox_inches=\"tight\", pad_inches=0)"
   ]
  },
  {
   "cell_type": "code",
   "execution_count": 43,
   "id": "3e258da2-65b3-46d9-b7c4-8a3e812b16bf",
   "metadata": {},
   "outputs": [
    {
     "data": {
      "image/png": "[encoded data removed]",
      "text/plain": [
       "<Figure size 90x90 with 1 Axes>"
      ]
     },
     "metadata": {
      "needs_background": "light"
     },
     "output_type": "display_data"
    }
   ],
   "source": [
    "import matplotlib\n",
    "import matplotlib.pyplot as plt\n",
    "\n",
    "asdf = [1,2,3]\n",
    "qwer = [3,5,6]\n",
    "\n",
    "fig, ax = plt.subplots(figsize=(1.25,1.25))\n",
    "\n",
    "ax.scatter(\n",
    "    x = asdf,\n",
    "    y = qwer,\n",
    "    s = 275,\n",
    "    # color = \"#ffcb05\"\n",
    ")\n",
    "\n",
    "# ax.set_facecolor(\"#00274c\")\n",
    "# plt.show()\n",
    "ax.set_xticks(ax.get_xticks())\n",
    "ax.set_yticks(ax.get_yticks())\n",
    "ax.set_xticklabels(ax.get_xticks(), fontsize=6, fontfamily=\"arial\")\n",
    "ax.set_yticklabels(ax.get_yticks(), fontsize=6, fontfamily=\"arial\")\n",
    "plt.subplots_adjust(wspace=0, hspace=0)\n",
    "\n",
    "plt.savefig(\"b.png\", dpi=300, bbox_inches=\"tight\", pad_inches=0)"
   ]
  },
  {
   "cell_type": "code",
   "execution_count": 44,
   "id": "b51f85cc-f5e0-4630-bf8c-a3b39a7c19e1",
   "metadata": {},
   "outputs": [
    {
     "data": {
      "image/png": "[encoded data removed]",
      "text/plain": [
       "<Figure size 90x90 with 1 Axes>"
      ]
     },
     "metadata": {
      "needs_background": "light"
     },
     "output_type": "display_data"
    }
   ],
   "source": [
    "import matplotlib\n",
    "import matplotlib.pyplot as plt\n",
    "\n",
    "asdf = [1,2,3]\n",
    "qwer = [3,5,6]\n",
    "\n",
    "fig, ax = plt.subplots(figsize=(1.25,1.25))\n",
    "\n",
    "ax.scatter(\n",
    "    x = asdf,\n",
    "    y = qwer,\n",
    "    s = 275,\n",
    "    color = \"#ffcb05\"\n",
    ")\n",
    "\n",
    "# ax.set_facecolor(\"#00274c\")\n",
    "# plt.show()\n",
    "ax.set_xticks(ax.get_xticks())\n",
    "ax.set_yticks(ax.get_yticks())\n",
    "ax.set_xticklabels(ax.get_xticks(), fontsize=6, fontfamily=\"arial\")\n",
    "ax.set_yticklabels(ax.get_yticks(), fontsize=6, fontfamily=\"arial\")\n",
    "plt.subplots_adjust(wspace=0, hspace=0)\n",
    "\n",
    "plt.savefig(\"c.png\", dpi=300, bbox_inches=\"tight\", pad_inches=0)"
   ]
  },
  {
   "cell_type": "code",
   "execution_count": 45,
   "id": "a879cd7a-6244-4abe-9c43-b542f41c85cd",
   "metadata": {},
   "outputs": [
    {
     "data": {
      "image/png": "[encoded data removed]",
      "text/plain": [
       "<Figure size 90x90 with 1 Axes>"
      ]
     },
     "metadata": {
      "needs_background": "light"
     },
     "output_type": "display_data"
    }
   ],
   "source": [
    "import matplotlib\n",
    "import matplotlib.pyplot as plt\n",
    "\n",
    "asdf = [1,2,3]\n",
    "qwer = [3,5,6]\n",
    "\n",
    "fig, ax = plt.subplots(figsize=(1.25,1.25))\n",
    "\n",
    "ax.scatter(\n",
    "    x = asdf,\n",
    "    y = qwer,\n",
    "    s = 275,\n",
    "    color = \"#ffcb05\"\n",
    ")\n",
    "\n",
    "ax.set_facecolor(\"#00274c\")\n",
    "# plt.show()\n",
    "ax.set_xticks(ax.get_xticks())\n",
    "ax.set_yticks(ax.get_yticks())\n",
    "ax.set_xticklabels(ax.get_xticks(), fontsize=6, fontfamily=\"arial\")\n",
    "ax.set_yticklabels(ax.get_yticks(), fontsize=6, fontfamily=\"arial\")\n",
    "plt.subplots_adjust(wspace=0, hspace=0)\n",
    "\n",
    "plt.savefig(\"d.png\", dpi=300, bbox_inches=\"tight\", pad_inches=0)"
   ]
  },
  {
   "cell_type": "code",
   "execution_count": 46,
   "id": "bceca3c9-a846-453e-bd32-131494c31cd7",
   "metadata": {},
   "outputs": [
    {
     "data": {
      "image/png": "[encoded data removed]",
      "text/plain": [
       "<Figure size 90x90 with 1 Axes>"
      ]
     },
     "metadata": {
      "needs_background": "light"
     },
     "output_type": "display_data"
    }
   ],
   "source": [
    "import matplotlib\n",
    "import matplotlib.pyplot as plt\n",
    "\n",
    "asdf = [1,2,3, 1.5]\n",
    "qwer = [3,5,6, 4]\n",
    "\n",
    "fig, ax = plt.subplots(figsize=(1.25,1.25))\n",
    "\n",
    "ax.scatter(\n",
    "    x = asdf,\n",
    "    y = qwer,\n",
    "    s = 275,\n",
    "    color = \"#ffcb05\"\n",
    ")\n",
    "\n",
    "ax.set_facecolor(\"#00274c\")\n",
    "# plt.show()\n",
    "ax.set_xticks(ax.get_xticks())\n",
    "ax.set_yticks(ax.get_yticks())\n",
    "ax.set_xticklabels(ax.get_xticks(), fontsize=6, fontfamily=\"arial\")\n",
    "ax.set_yticklabels(ax.get_yticks(), fontsize=6, fontfamily=\"arial\")\n",
    "plt.subplots_adjust(wspace=0, hspace=0)\n",
    "\n",
    "plt.savefig(\"e.png\", dpi=300, bbox_inches=\"tight\", pad_inches=0)"
   ]
  },
  {
   "cell_type": "code",
   "execution_count": 47,
   "id": "b1fea42b-33da-4b3b-b651-60c11323d461",
   "metadata": {},
   "outputs": [
    {
     "data": {
      "image/png": "[encoded data removed]",
      "text/plain": [
       "<Figure size 90x90 with 1 Axes>"
      ]
     },
     "metadata": {
      "needs_background": "light"
     },
     "output_type": "display_data"
    }
   ],
   "source": [
    "import matplotlib\n",
    "import matplotlib.pyplot as plt\n",
    "\n",
    "asdf = [1,2,3, 1.5]\n",
    "qwer = [3,5,6, 4]\n",
    "\n",
    "fig, ax = plt.subplots(figsize=(1.25,1.25))\n",
    "\n",
    "ax.scatter(\n",
    "    x = asdf,\n",
    "    y = qwer,\n",
    "    s = 275,\n",
    "    color = \"#ffcb05\",\n",
    "    marker=\"4\"\n",
    ")\n",
    "\n",
    "ax.set_facecolor(\"#00274c\")\n",
    "# plt.show()\n",
    "ax.set_xticks(ax.get_xticks())\n",
    "ax.set_yticks(ax.get_yticks())\n",
    "ax.set_xticklabels(ax.get_xticks(), fontsize=6, fontfamily=\"arial\")\n",
    "ax.set_yticklabels(ax.get_yticks(), fontsize=6, fontfamily=\"arial\")\n",
    "plt.subplots_adjust(wspace=0, hspace=0)\n",
    "\n",
    "plt.savefig(\"f.png\", dpi=300, bbox_inches=\"tight\", pad_inches=0)"
   ]
  },
  {
   "cell_type": "code",
   "execution_count": null,
   "id": "464c124a-1f2c-40fd-b6d6-dfe80b7e1e1d",
   "metadata": {},
   "outputs": [],
   "source": []
  }
 ],
 "metadata": {
  "kernelspec": {
   "display_name": "Python 3 (ipykernel)",
   "language": "python",
   "name": "python3"
  },
  "language_info": {
   "codemirror_mode": {
    "name": "ipython",
    "version": 3
   },
   "file_extension": ".py",
   "mimetype": "text/x-python",
   "name": "python",
   "nbconvert_exporter": "python",
   "pygments_lexer": "ipython3",
   "version": "3.9.7"
  }
 },
 "nbformat": 4,
 "nbformat_minor": 5
}
