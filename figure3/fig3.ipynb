{
 "cells": [
  {
   "cell_type": "code",
   "execution_count": 1,
   "id": "77fb0d5a-2af4-4767-a9ae-828c13508f30",
   "metadata": {},
   "outputs": [],
   "source": [
    "import pandas as pd\n",
    "\n",
    "data = pd.read_json(\"alldrugsprops.json\")\n"
   ]
  },
  {
   "cell_type": "code",
   "execution_count": 3,
   "id": "02ca3c27-d95d-4982-93dd-675cb610ad34",
   "metadata": {},
   "outputs": [
    {
     "data": {
      "text/plain": [
       "Index(['SMILES', 'MR', 'LOGP', 'HBD', 'HBA', 'PSA', 'ROTB', 'AROM', 'FSP3',\n",
       "       'FC', 'QED', 'ALOGP'],\n",
       "      dtype='object')"
      ]
     },
     "execution_count": 3,
     "metadata": {},
     "output_type": "execute_result"
    }
   ],
   "source": [
    "data.columns"
   ]
  },
  {
   "cell_type": "code",
   "execution_count": 17,
   "id": "8c3d9a34-d04f-4873-a1de-8dbe0f387a7c",
   "metadata": {},
   "outputs": [
    {
     "data": {
      "image/png": "[encoded data removed]",
      "text/plain": [
       "<Figure size 90x90 with 1 Axes>"
      ]
     },
     "metadata": {
      "needs_background": "light"
     },
     "output_type": "display_data"
    }
   ],
   "source": [
    "import matplotlib.pyplot as plt\n",
    "\n",
    "fig, ax = plt.subplots(figsize=(1.25,1.25))\n",
    "\n",
    "color = \"AROM\"\n",
    "ax.scatter(\n",
    "    x = data[\"HBD\"],\n",
    "    y = data[\"LOGP\"],\n",
    "    c = data[color]\n",
    ")\n",
    "\n",
    "ax.set_title(f\"color: {color}\", fontsize=6, \n",
    "              fontfamily=\"arial\")\n",
    "ax.set_xlabel(\"HBD\", fontsize=6, \n",
    "              fontfamily=\"arial\")\n",
    "ax.set_ylabel(\"LOGP\", fontsize=6, \n",
    "              fontfamily=\"arial\")\n",
    "# plt.show()\n",
    "\n",
    "# ax.set_facecolor(\"#00274c\")\n",
    "ax.set_xticks(ax.get_xticks())\n",
    "ax.set_yticks(ax.get_yticks())\n",
    "ax.set_xticklabels(ax.get_xticks(), fontsize=6, \n",
    "                   fontfamily=\"arial\")\n",
    "ax.set_yticklabels(ax.get_yticks(), fontsize=6, \n",
    "                   fontfamily=\"arial\")\n",
    "plt.subplots_adjust(wspace=0, hspace=0)\n",
    "\n",
    "plt.savefig(\"a.png\", dpi=300, bbox_inches=\"tight\", pad_inches=0)"
   ]
  },
  {
   "cell_type": "code",
   "execution_count": 18,
   "id": "a88d3e34-15e3-4a6a-91e4-7cb54909e737",
   "metadata": {},
   "outputs": [
    {
     "data": {
      "image/png": "[encoded data removed]",
      "text/plain": [
       "<Figure size 90x90 with 1 Axes>"
      ]
     },
     "metadata": {
      "needs_background": "light"
     },
     "output_type": "display_data"
    }
   ],
   "source": [
    "import matplotlib.pyplot as plt\n",
    "\n",
    "fig, ax = plt.subplots(figsize=(1.25,1.25))\n",
    "\n",
    "color = \"HBA\"\n",
    "ax.scatter(\n",
    "    x = data[\"ROTB\"],\n",
    "    y = data[\"FSP3\"],\n",
    "    c = data[color]\n",
    ")\n",
    "\n",
    "ax.set_title(f\"color: {color}\", fontsize=6, \n",
    "              fontfamily=\"arial\")\n",
    "ax.set_xlabel(\"ROTB\", fontsize=6, \n",
    "              fontfamily=\"arial\")\n",
    "ax.set_ylabel(\"FSP3\", fontsize=6, \n",
    "              fontfamily=\"arial\")\n",
    "# plt.show()\n",
    "\n",
    "# ax.set_facecolor(\"#00274c\")\n",
    "ax.set_xticks(ax.get_xticks())\n",
    "ax.set_yticks(ax.get_yticks())\n",
    "ax.set_xticklabels(ax.get_xticks(), fontsize=6, \n",
    "                   fontfamily=\"arial\")\n",
    "ax.set_yticklabels(ax.get_yticks(), fontsize=6, \n",
    "                   fontfamily=\"arial\")\n",
    "plt.subplots_adjust(wspace=0, hspace=0)\n",
    "\n",
    "plt.savefig(\"b.png\", dpi=300, bbox_inches=\"tight\", pad_inches=0)"
   ]
  },
  {
   "cell_type": "code",
   "execution_count": 19,
   "id": "7c52c2f7-ca6c-425f-b1d4-28fe32867707",
   "metadata": {},
   "outputs": [
    {
     "data": {
      "image/png": "[encoded data removed]",
      "text/plain": [
       "<Figure size 90x90 with 1 Axes>"
      ]
     },
     "metadata": {
      "needs_background": "light"
     },
     "output_type": "display_data"
    }
   ],
   "source": [
    "import matplotlib.pyplot as plt\n",
    "\n",
    "fig, ax = plt.subplots(figsize=(1.25,1.25))\n",
    "\n",
    "color = \"QED\"\n",
    "ax.scatter(\n",
    "    x = data[\"ALOGP\"],\n",
    "    y = data[\"LOGP\"],\n",
    "    c = data[color]\n",
    ")\n",
    "\n",
    "ax.set_title(f\"color: {color}\", fontsize=6, \n",
    "              fontfamily=\"arial\")\n",
    "ax.set_xlabel(\"ALOGP\", fontsize=6, \n",
    "              fontfamily=\"arial\")\n",
    "ax.set_ylabel(\"LOGP\", fontsize=6, \n",
    "              fontfamily=\"arial\")\n",
    "# plt.show()\n",
    "\n",
    "# ax.set_facecolor(\"#00274c\")\n",
    "ax.set_xticks(ax.get_xticks())\n",
    "ax.set_yticks(ax.get_yticks())\n",
    "ax.set_xticklabels(ax.get_xticks(), fontsize=6, \n",
    "                   fontfamily=\"arial\")\n",
    "ax.set_yticklabels(ax.get_yticks(), fontsize=6, \n",
    "                   fontfamily=\"arial\")\n",
    "plt.subplots_adjust(wspace=0, hspace=0)\n",
    "\n",
    "plt.savefig(\"c.png\", dpi=300, bbox_inches=\"tight\", pad_inches=0)"
   ]
  },
  {
   "cell_type": "code",
   "execution_count": 20,
   "id": "1d3aaf08-589b-4cf6-aad4-7393932ff567",
   "metadata": {},
   "outputs": [
    {
     "data": {
      "image/png": "[encoded data removed]",
      "text/plain": [
       "<Figure size 90x90 with 1 Axes>"
      ]
     },
     "metadata": {
      "needs_background": "light"
     },
     "output_type": "display_data"
    }
   ],
   "source": [
    "import matplotlib.pyplot as plt\n",
    "\n",
    "fig, ax = plt.subplots(figsize=(1.25,1.25))\n",
    "\n",
    "color = \"HBD\"\n",
    "ax.scatter(\n",
    "    x = data[\"FSP3\"],\n",
    "    y = data[\"FC\"],\n",
    "    c = data[color]\n",
    ")\n",
    "\n",
    "ax.set_title(f\"color: {color}\", fontsize=6, \n",
    "              fontfamily=\"arial\")\n",
    "ax.set_xlabel(\"FSP3\", fontsize=6, \n",
    "              fontfamily=\"arial\")\n",
    "ax.set_ylabel(\"FC\", fontsize=6, \n",
    "              fontfamily=\"arial\")\n",
    "# plt.show()\n",
    "\n",
    "# ax.set_facecolor(\"#00274c\")\n",
    "ax.set_xticks(ax.get_xticks())\n",
    "ax.set_yticks(ax.get_yticks())\n",
    "ax.set_xticklabels(ax.get_xticks(), fontsize=6, \n",
    "                   fontfamily=\"arial\")\n",
    "ax.set_yticklabels(ax.get_yticks(), fontsize=6, \n",
    "                   fontfamily=\"arial\")\n",
    "plt.subplots_adjust(wspace=0, hspace=0)\n",
    "\n",
    "plt.savefig(\"d.png\", dpi=300, bbox_inches=\"tight\", pad_inches=0)"
   ]
  },
  {
   "cell_type": "code",
   "execution_count": null,
   "id": "c2950113-3e01-4ff2-9a77-49201c143f76",
   "metadata": {},
   "outputs": [],
   "source": []
  }
 ],
 "metadata": {
  "kernelspec": {
   "display_name": "Python 3 (ipykernel)",
   "language": "python",
   "name": "python3"
  },
  "language_info": {
   "codemirror_mode": {
    "name": "ipython",
    "version": 3
   },
   "file_extension": ".py",
   "mimetype": "text/x-python",
   "name": "python",
   "nbconvert_exporter": "python",
   "pygments_lexer": "ipython3",
   "version": "3.9.7"
  }
 },
 "nbformat": 4,
 "nbformat_minor": 5
}
