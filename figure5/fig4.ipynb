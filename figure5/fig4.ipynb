{
 "cells": [
  {
   "cell_type": "code",
   "execution_count": 29,
   "id": "82e95a0b-21bb-4fcf-84f9-9d202243ea4f",
   "metadata": {},
   "outputs": [],
   "source": [
    "import pandas as pd\n",
    "\n",
    "data = pd.read_csv(\"activity_data_with_props(1).csv\")"
   ]
  },
  {
   "cell_type": "code",
   "execution_count": 30,
   "id": "c7c52fd8-9fbe-4f89-ac7b-1656c2c80652",
   "metadata": {},
   "outputs": [
    {
     "data": {
      "text/plain": [
       "1699"
      ]
     },
     "execution_count": 30,
     "metadata": {},
     "output_type": "execute_result"
    }
   ],
   "source": [
    "len(data)"
   ]
  },
  {
   "cell_type": "code",
   "execution_count": 31,
   "id": "f436a892-ecc7-4941-9bb1-358c57c41f4e",
   "metadata": {},
   "outputs": [
    {
     "data": {
      "text/html": [
       "<div>\n",
       "<style scoped>\n",
       "    .dataframe tbody tr th:only-of-type {\n",
       "        vertical-align: middle;\n",
       "    }\n",
       "\n",
       "    .dataframe tbody tr th {\n",
       "        vertical-align: top;\n",
       "    }\n",
       "\n",
       "    .dataframe thead th {\n",
       "        text-align: right;\n",
       "    }\n",
       "</style>\n",
       "<table border=\"1\" class=\"dataframe\">\n",
       "  <thead>\n",
       "    <tr style=\"text-align: right;\">\n",
       "      <th></th>\n",
       "      <th>Unnamed: 0</th>\n",
       "      <th>SMILES</th>\n",
       "      <th>CID</th>\n",
       "      <th>Unnamed: 2</th>\n",
       "      <th>f_inhibition_at_50_uM</th>\n",
       "      <th>f_avg_IC50</th>\n",
       "      <th>f_avg_pIC50</th>\n",
       "      <th>relative_solubility_at_20_uM</th>\n",
       "      <th>relative_solubility_at_100_uM</th>\n",
       "      <th>trypsin_IC50</th>\n",
       "      <th>LogP</th>\n",
       "      <th>MW</th>\n",
       "      <th>HBD</th>\n",
       "      <th>HBA</th>\n",
       "      <th>PSA</th>\n",
       "      <th>ROTB</th>\n",
       "      <th>AROM</th>\n",
       "      <th>FSP3</th>\n",
       "      <th>FC</th>\n",
       "      <th>QED</th>\n",
       "    </tr>\n",
       "  </thead>\n",
       "  <tbody>\n",
       "    <tr>\n",
       "      <th>0</th>\n",
       "      <td>0</td>\n",
       "      <td>O=C(Cn1ccnc1)NCC1(C(=O)Nc2cncc3ccccc23)CCOc2cc...</td>\n",
       "      <td>EDG-MED-70ae9412-1</td>\n",
       "      <td>NaN</td>\n",
       "      <td>NaN</td>\n",
       "      <td>2.879609</td>\n",
       "      <td>5.540667</td>\n",
       "      <td>NaN</td>\n",
       "      <td>NaN</td>\n",
       "      <td>NaN</td>\n",
       "      <td>3.5601</td>\n",
       "      <td>475.936</td>\n",
       "      <td>2</td>\n",
       "      <td>6</td>\n",
       "      <td>98.14</td>\n",
       "      <td>6</td>\n",
       "      <td>4</td>\n",
       "      <td>0.200000</td>\n",
       "      <td>0</td>\n",
       "      <td>0.444071</td>\n",
       "    </tr>\n",
       "    <tr>\n",
       "      <th>1</th>\n",
       "      <td>1</td>\n",
       "      <td>CN(C)CC(=O)NCC1(C(=O)Nc2cncc3ccccc23)CCOc2ccc(...</td>\n",
       "      <td>EDG-MED-70ae9412-2</td>\n",
       "      <td>NaN</td>\n",
       "      <td>NaN</td>\n",
       "      <td>5.004724</td>\n",
       "      <td>5.300620</td>\n",
       "      <td>NaN</td>\n",
       "      <td>NaN</td>\n",
       "      <td>NaN</td>\n",
       "      <td>3.2250</td>\n",
       "      <td>452.942</td>\n",
       "      <td>2</td>\n",
       "      <td>5</td>\n",
       "      <td>83.56</td>\n",
       "      <td>6</td>\n",
       "      <td>3</td>\n",
       "      <td>0.291667</td>\n",
       "      <td>0</td>\n",
       "      <td>0.599609</td>\n",
       "    </tr>\n",
       "    <tr>\n",
       "      <th>2</th>\n",
       "      <td>2</td>\n",
       "      <td>O=C(Nc1cncc2ccccc12)[C@@]1(O)CCOc2ccc(Cl)cc21</td>\n",
       "      <td>MAT-POS-9db1e783-1</td>\n",
       "      <td>NaN</td>\n",
       "      <td>NaN</td>\n",
       "      <td>NaN</td>\n",
       "      <td>NaN</td>\n",
       "      <td>NaN</td>\n",
       "      <td>NaN</td>\n",
       "      <td>NaN</td>\n",
       "      <td>3.4970</td>\n",
       "      <td>354.793</td>\n",
       "      <td>2</td>\n",
       "      <td>4</td>\n",
       "      <td>71.45</td>\n",
       "      <td>2</td>\n",
       "      <td>3</td>\n",
       "      <td>0.157895</td>\n",
       "      <td>0</td>\n",
       "      <td>0.738547</td>\n",
       "    </tr>\n",
       "    <tr>\n",
       "      <th>3</th>\n",
       "      <td>3</td>\n",
       "      <td>O=C(Nc1cncc2ccccc12)C1(CO)CCOc2ccc(Cl)cc21</td>\n",
       "      <td>MAT-POS-9db1e783-2</td>\n",
       "      <td>NaN</td>\n",
       "      <td>NaN</td>\n",
       "      <td>1.088036</td>\n",
       "      <td>5.963357</td>\n",
       "      <td>NaN</td>\n",
       "      <td>NaN</td>\n",
       "      <td>NaN</td>\n",
       "      <td>3.5395</td>\n",
       "      <td>368.820</td>\n",
       "      <td>2</td>\n",
       "      <td>4</td>\n",
       "      <td>71.45</td>\n",
       "      <td>3</td>\n",
       "      <td>3</td>\n",
       "      <td>0.200000</td>\n",
       "      <td>0</td>\n",
       "      <td>0.741383</td>\n",
       "    </tr>\n",
       "    <tr>\n",
       "      <th>4</th>\n",
       "      <td>4</td>\n",
       "      <td>COC(=O)/C=C/C(=O)N(C(=O)[C@H]1CCOc2ccc(Cl)cc21...</td>\n",
       "      <td>MAT-POS-9db1e783-3</td>\n",
       "      <td>NaN</td>\n",
       "      <td>NaN</td>\n",
       "      <td>4.357514</td>\n",
       "      <td>5.360761</td>\n",
       "      <td>NaN</td>\n",
       "      <td>NaN</td>\n",
       "      <td>NaN</td>\n",
       "      <td>4.0433</td>\n",
       "      <td>450.878</td>\n",
       "      <td>0</td>\n",
       "      <td>6</td>\n",
       "      <td>85.80</td>\n",
       "      <td>4</td>\n",
       "      <td>3</td>\n",
       "      <td>0.166667</td>\n",
       "      <td>0</td>\n",
       "      <td>0.440154</td>\n",
       "    </tr>\n",
       "  </tbody>\n",
       "</table>\n",
       "</div>"
      ],
      "text/plain": [
       "   Unnamed: 0                                             SMILES  \\\n",
       "0           0  O=C(Cn1ccnc1)NCC1(C(=O)Nc2cncc3ccccc23)CCOc2cc...   \n",
       "1           1  CN(C)CC(=O)NCC1(C(=O)Nc2cncc3ccccc23)CCOc2ccc(...   \n",
       "2           2      O=C(Nc1cncc2ccccc12)[C@@]1(O)CCOc2ccc(Cl)cc21   \n",
       "3           3         O=C(Nc1cncc2ccccc12)C1(CO)CCOc2ccc(Cl)cc21   \n",
       "4           4  COC(=O)/C=C/C(=O)N(C(=O)[C@H]1CCOc2ccc(Cl)cc21...   \n",
       "\n",
       "                  CID  Unnamed: 2  f_inhibition_at_50_uM  f_avg_IC50  \\\n",
       "0  EDG-MED-70ae9412-1         NaN                    NaN    2.879609   \n",
       "1  EDG-MED-70ae9412-2         NaN                    NaN    5.004724   \n",
       "2  MAT-POS-9db1e783-1         NaN                    NaN         NaN   \n",
       "3  MAT-POS-9db1e783-2         NaN                    NaN    1.088036   \n",
       "4  MAT-POS-9db1e783-3         NaN                    NaN    4.357514   \n",
       "\n",
       "   f_avg_pIC50  relative_solubility_at_20_uM  relative_solubility_at_100_uM  \\\n",
       "0     5.540667                           NaN                            NaN   \n",
       "1     5.300620                           NaN                            NaN   \n",
       "2          NaN                           NaN                            NaN   \n",
       "3     5.963357                           NaN                            NaN   \n",
       "4     5.360761                           NaN                            NaN   \n",
       "\n",
       "   trypsin_IC50    LogP       MW  HBD  HBA    PSA  ROTB  AROM      FSP3  FC  \\\n",
       "0           NaN  3.5601  475.936    2    6  98.14     6     4  0.200000   0   \n",
       "1           NaN  3.2250  452.942    2    5  83.56     6     3  0.291667   0   \n",
       "2           NaN  3.4970  354.793    2    4  71.45     2     3  0.157895   0   \n",
       "3           NaN  3.5395  368.820    2    4  71.45     3     3  0.200000   0   \n",
       "4           NaN  4.0433  450.878    0    6  85.80     4     3  0.166667   0   \n",
       "\n",
       "        QED  \n",
       "0  0.444071  \n",
       "1  0.599609  \n",
       "2  0.738547  \n",
       "3  0.741383  \n",
       "4  0.440154  "
      ]
     },
     "execution_count": 31,
     "metadata": {},
     "output_type": "execute_result"
    }
   ],
   "source": [
    "data.head()"
   ]
  },
  {
   "cell_type": "code",
   "execution_count": 32,
   "id": "efcb5ce4-fbd1-4a14-a9e7-4685d643aa08",
   "metadata": {},
   "outputs": [],
   "source": [
    "data = data.dropna(subset=['f_avg_IC50'])"
   ]
  },
  {
   "cell_type": "code",
   "execution_count": 33,
   "id": "16d5d985-52e0-430b-a09e-42e11819b029",
   "metadata": {},
   "outputs": [
    {
     "data": {
      "text/plain": [
       "846"
      ]
     },
     "execution_count": 33,
     "metadata": {},
     "output_type": "execute_result"
    }
   ],
   "source": [
    "len(data)"
   ]
  },
  {
   "cell_type": "code",
   "execution_count": 54,
   "id": "38803cac-33a1-4a0a-bf52-33ff2c69545f",
   "metadata": {},
   "outputs": [
    {
     "data": {
      "image/png": "[encoded data removed]",
      "text/plain": [
       "<Figure size 144x144 with 1 Axes>"
      ]
     },
     "metadata": {
      "needs_background": "light"
     },
     "output_type": "display_data"
    }
   ],
   "source": [
    "import matplotlib.pyplot as plt\n",
    "\n",
    "fig, ax = plt.subplots(figsize=(2,2))\n",
    "\n",
    "color = \"relative_solubility_at_100_uM\"\n",
    "ax.scatter(\n",
    "    x = data[\"AROM\"],\n",
    "    y = data[\"LogP\"],\n",
    "    c = data[color]\n",
    ")\n",
    "\n",
    "ax.set_title(f\"color: {color}\", fontsize=6, \n",
    "              fontfamily=\"arial\")\n",
    "ax.set_xlabel(\"AROM\", fontsize=6, \n",
    "              fontfamily=\"arial\")\n",
    "ax.set_ylabel(\"LogP\", fontsize=6, \n",
    "              fontfamily=\"arial\")\n",
    "plt.show()\n",
    "\n",
    "ax.set_xticks(ax.get_xticks())\n",
    "ax.set_yticks(ax.get_yticks())\n",
    "ax.set_xticklabels(ax.get_xticks(), fontsize=6, \n",
    "                   fontfamily=\"arial\")\n",
    "ax.set_yticklabels(ax.get_yticks(), fontsize=6, \n",
    "                   fontfamily=\"arial\")\n",
    "plt.subplots_adjust(wspace=0, hspace=0)\n",
    "\n",
    "plt.savefig(\"a.png\", dpi=300, bbox_inches=\"tight\", pad_inches=0)"
   ]
  },
  {
   "cell_type": "code",
   "execution_count": null,
   "id": "176d9589-59ab-4560-a3cf-2ac9141ef434",
   "metadata": {},
   "outputs": [],
   "source": []
  }
 ],
 "metadata": {
  "kernelspec": {
   "display_name": "Python 3 (ipykernel)",
   "language": "python",
   "name": "python3"
  },
  "language_info": {
   "codemirror_mode": {
    "name": "ipython",
    "version": 3
   },
   "file_extension": ".py",
   "mimetype": "text/x-python",
   "name": "python",
   "nbconvert_exporter": "python",
   "pygments_lexer": "ipython3",
   "version": "3.9.7"
  }
 },
 "nbformat": 4,
 "nbformat_minor": 5
}
