{
 "cells": [
  {
   "cell_type": "code",
   "execution_count": 1,
   "id": "571708f8-a372-4ba2-8660-761443e4bf4f",
   "metadata": {},
   "outputs": [],
   "source": [
    "import pandas as pd\n",
    "\n",
    "data = pd.read_csv(\"activity_data_with_props.csv\")"
   ]
  },
  {
   "cell_type": "code",
   "execution_count": 24,
   "id": "38e93e12-d6eb-4c33-9fd0-f32d18d4d8f7",
   "metadata": {},
   "outputs": [
    {
     "name": "stdout",
     "output_type": "stream",
     "text": [
      "LogP - avg: 3.2788611065332547 +/- 1.383535462875573\n",
      "HBD - avg: 1.2719246615656268 +/- 0.7619446351600967\n",
      "HBA - avg: 4.009417304296645 +/- 1.4446526846006107\n",
      "PSA - avg: 70.9083460859329 +/- 22.066122365300988\n",
      "ROTB - avg: 4.751618599175986 +/- 2.3620482538286782\n",
      "AROM - avg: 2.5903472630959388 +/- 1.0493647550398943\n",
      "FSP3 - avg: 0.25520838075397295 +/- 0.15632178950150213\n",
      "QED - avg: 0.6749562178593289 +/- 0.19215048898345516\n",
      "MW - avg: 363.7681518540318 +/- 89.50122688014122\n",
      "FC - avg: 0.003531489111241907 +/- 0.05932130895301524\n"
     ]
    },
    {
     "data": {
      "image/png": "[encoded data removed]",
      "text/plain": [
       "<Figure size 270x180 with 10 Axes>"
      ]
     },
     "metadata": {
      "needs_background": "light"
     },
     "output_type": "display_data"
    }
   ],
   "source": [
    "import matplotlib.pyplot as plt\n",
    "import numpy as np\n",
    "fig, ax = plt.subplots(2,5,figsize=(3.75,2.5))\n",
    "\n",
    "features = [\"LogP\", \"HBD\", \"HBA\", \"PSA\", \"ROTB\", \"AROM\", \"FSP3\", \"QED\", \"MW\", \"FC\"]\n",
    "\n",
    "i = 0\n",
    "for k in ax.flatten():\n",
    "    k.boxplot(data[features[i]])\n",
    "    k.set_xticks([])\n",
    "    k.set_xlabel(features[i], fontsize=6, \n",
    "                       fontfamily=\"arial\")\n",
    "    mean = np.mean(data[features[i]])\n",
    "    std = np.std(data[features[i]])\n",
    "    k.set_xticks(k.get_xticks())\n",
    "    k.set_yticks(k.get_yticks())\n",
    "    k.set_xticklabels(k.get_xticks(), fontsize=6, \n",
    "                       fontfamily=\"arial\")\n",
    "    k.set_yticklabels(k.get_yticks(), fontsize=6, \n",
    "                       fontfamily=\"arial\")\n",
    "    print(f'{features[i]} - avg: {mean} +/- {std}')\n",
    "\n",
    "    i = i + 1\n",
    "\n",
    "plt.tight_layout()\n",
    "\n",
    "plt.subplots_adjust(wspace=.4, hspace=.2)\n",
    "\n",
    "plt.savefig(\"a.png\", dpi=300, bbox_inches=\"tight\", pad_inches=0.01)"
   ]
  },
  {
   "cell_type": "code",
   "execution_count": null,
   "id": "cdea3bbf-c8fa-47f2-b568-b60a5dece483",
   "metadata": {},
   "outputs": [],
   "source": []
  }
 ],
 "metadata": {
  "kernelspec": {
   "display_name": "Python 3 (ipykernel)",
   "language": "python",
   "name": "python3"
  },
  "language_info": {
   "codemirror_mode": {
    "name": "ipython",
    "version": 3
   },
   "file_extension": ".py",
   "mimetype": "text/x-python",
   "name": "python",
   "nbconvert_exporter": "python",
   "pygments_lexer": "ipython3",
   "version": "3.9.7"
  }
 },
 "nbformat": 4,
 "nbformat_minor": 5
}
