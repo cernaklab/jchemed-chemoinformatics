{
 "cells": [
  {
   "cell_type": "code",
   "execution_count": 1,
   "id": "83983d68-1221-478e-9b66-ea0b14640b53",
   "metadata": {},
   "outputs": [],
   "source": [
    "import pandas as pd\n",
    "\n",
    "data = pd.read_csv(\"activity_data_with_props.csv\")"
   ]
  },
  {
   "cell_type": "code",
   "execution_count": 19,
   "id": "9b6acfd2-d955-4ad5-bed6-3de9f2f5dcfe",
   "metadata": {},
   "outputs": [
    {
     "name": "stdout",
     "output_type": "stream",
     "text": [
      "           MW     LogP  HBA  HBD    PSA\n",
      "0     475.936  3.56010    6    2  98.14\n",
      "1     452.942  3.22500    5    2  83.56\n",
      "2     354.793  3.49700    4    2  71.45\n",
      "3     368.820  3.53950    4    2  71.45\n",
      "4     450.878  4.04330    6    0  85.80\n",
      "...       ...      ...  ...  ...    ...\n",
      "1694  248.673  2.77400    3    2  66.91\n",
      "1695  238.250  1.52948    4    1  78.67\n",
      "1696  287.322  3.28768    3    1  65.78\n",
      "1697  262.312  3.41600    2    1  41.99\n",
      "1698  280.305  1.47150    5    1  89.27\n",
      "\n",
      "[1699 rows x 5 columns]\n"
     ]
    },
    {
     "data": {
      "image/png": "[encoded data removed]",
      "text/plain": [
       "<Figure size 90x90 with 1 Axes>"
      ]
     },
     "metadata": {},
     "output_type": "display_data"
    }
   ],
   "source": [
    "from sklearn.decomposition import PCA\n",
    "import matplotlib.pyplot as plt\n",
    "\n",
    "\n",
    "fig, ax = plt.subplots(figsize=(1.25,1.25))\n",
    "\n",
    "features = [\"MW\", \"LogP\", \"HBA\", \"HBD\",\"PSA\"]\n",
    "input_data = data[features]\n",
    "print(input_data)\n",
    "\n",
    "X = PCA(n_components=2).fit_transform(input_data)\n",
    "\n",
    "ax.scatter(X[:,0],X[:,1],c=data['MW'], s=10, alpha=.5)\n",
    "\n",
    "\n",
    "ax.set_title(f\"color: MW\", fontsize=6, \n",
    "              fontfamily=\"arial\")\n",
    "ax.set_xlabel(\"PCA1\", fontsize=6, \n",
    "              fontfamily=\"arial\")\n",
    "ax.set_ylabel(\"PCA2\", fontsize=6, \n",
    "              fontfamily=\"arial\")\n",
    "ax.set_xticks([])\n",
    "ax.set_yticks([])\n",
    "ax.set_xticklabels(ax.get_xticks(), fontsize=6, \n",
    "                   fontfamily=\"arial\")\n",
    "ax.set_yticklabels(ax.get_yticks(), fontsize=6, \n",
    "                   fontfamily=\"arial\")\n",
    "\n",
    "plt.subplots_adjust(wspace=0, hspace=0)\n",
    "\n",
    "plt.savefig(\"a.png\", dpi=300, bbox_inches=\"tight\", pad_inches=0.01)"
   ]
  },
  {
   "cell_type": "code",
   "execution_count": 20,
   "id": "88f0b040-4055-4e24-8be8-4290ca880777",
   "metadata": {},
   "outputs": [],
   "source": [
    "lipinski_compliant_drugs = data.loc[(data[\"MW\"] < 500) & (data[\"LogP\"] < 5) & (data[\"HBD\"] < 5) & (data[\"HBA\"] < 10)]"
   ]
  },
  {
   "cell_type": "code",
   "execution_count": 21,
   "id": "e02fc4f9-f86b-4779-990b-a08cde82c33d",
   "metadata": {},
   "outputs": [
    {
     "name": "stdout",
     "output_type": "stream",
     "text": [
      "1437\n"
     ]
    }
   ],
   "source": [
    "print(len(lipinski_compliant_drugs))"
   ]
  },
  {
   "cell_type": "code",
   "execution_count": 22,
   "id": "418075d0-21d9-47b5-8fda-ce1c24b0c945",
   "metadata": {},
   "outputs": [
    {
     "data": {
      "image/png": "[encoded data removed]",
      "text/plain": [
       "<Figure size 90x90 with 1 Axes>"
      ]
     },
     "metadata": {},
     "output_type": "display_data"
    }
   ],
   "source": [
    "features = [\"MW\", \"LogP\", \"HBA\", \"HBD\",\"PSA\"]\n",
    "input_data = lipinski_compliant_drugs[features]\n",
    "\n",
    "X2 = PCA(n_components=2).fit_transform(input_data)\n",
    "\n",
    "fig, ax = plt.subplots(figsize=(1.25,1.25))\n",
    "\n",
    "\n",
    "ax.scatter(X2[:,0],X2[:,1],c=input_data['MW'], s=10, alpha=.5)\n",
    "\n",
    "\n",
    "ax.set_title(f\"color: MW, after Lipinski filter\", fontsize=6, \n",
    "              fontfamily=\"arial\")\n",
    "ax.set_xlabel(\"PCA1\", fontsize=6, \n",
    "              fontfamily=\"arial\")\n",
    "ax.set_ylabel(\"PCA2\", fontsize=6, \n",
    "              fontfamily=\"arial\")\n",
    "ax.set_xticks([])\n",
    "ax.set_yticks([])\n",
    "ax.set_xticklabels(ax.get_xticks(), fontsize=6, \n",
    "                   fontfamily=\"arial\")\n",
    "ax.set_yticklabels(ax.get_yticks(), fontsize=6, \n",
    "                   fontfamily=\"arial\")\n",
    "\n",
    "plt.subplots_adjust(wspace=0, hspace=0)\n",
    "\n",
    "plt.savefig(\"b.png\", dpi=300, bbox_inches=\"tight\", pad_inches=0.01)"
   ]
  },
  {
   "cell_type": "code",
   "execution_count": null,
   "id": "b6aa979c-298a-42ac-9b55-6b788cec5f92",
   "metadata": {},
   "outputs": [],
   "source": []
  }
 ],
 "metadata": {
  "kernelspec": {
   "display_name": "Python 3 (ipykernel)",
   "language": "python",
   "name": "python3"
  },
  "language_info": {
   "codemirror_mode": {
    "name": "ipython",
    "version": 3
   },
   "file_extension": ".py",
   "mimetype": "text/x-python",
   "name": "python",
   "nbconvert_exporter": "python",
   "pygments_lexer": "ipython3",
   "version": "3.9.7"
  }
 },
 "nbformat": 4,
 "nbformat_minor": 5
}
