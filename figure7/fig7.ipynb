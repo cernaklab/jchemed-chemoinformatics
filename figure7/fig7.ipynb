{
 "cells": [
  {
   "cell_type": "code",
   "execution_count": 5,
   "id": "ce583b2f-2f70-48a4-806c-ef7a69539c19",
   "metadata": {},
   "outputs": [],
   "source": [
    "answers = [\n",
    "    [4, 19 ,9],\n",
    "    [2, 8, 22],\n",
    "    [3, 8, 21],\n",
    "    [2, 9, 21],\n",
    "    [5, 7, 20]\n",
    "]"
   ]
  },
  {
   "cell_type": "code",
   "execution_count": 8,
   "id": "f303d57b-b943-487e-9f17-bfd7ae3e2d9a",
   "metadata": {},
   "outputs": [
    {
     "data": {
      "image/png": "[encoded data removed]",
      "text/plain": [
       "<Figure size 108x180 with 5 Axes>"
      ]
     },
     "metadata": {
      "needs_background": "light"
     },
     "output_type": "display_data"
    }
   ],
   "source": [
    "import matplotlib.pyplot as plt\n",
    "\n",
    "fig, ax = plt.subplots(5, 1, figsize=(1.5,2.5), sharex=True)\n",
    "\n",
    "for i,k in enumerate(ax):\n",
    "    ax[i].barh(range(0,3), answers[i])\n",
    "    ax[i].set_ylabel(f\"\", fontsize=6, \n",
    "                  fontfamily=\"arial\", rotation=0)\n",
    "    ax[i].yaxis.set_label_position(\"right\")\n",
    "    \n",
    "    ax[i].set_yticks([0,1,2])\n",
    "    ax[i].set_yticklabels([\"Strongly Disagree\",\"Neutral\",\"Strongly Agree\"], fontsize=6, \n",
    "                       fontfamily=\"arial\", rotation=0)\n",
    "    ax[i].set_xticks([0, 5, 10, 15, 20, 25])\n",
    "    ax[i].set_xticklabels(ax[i].get_xticks(), fontsize=6, \n",
    "                       fontfamily=\"arial\")\n",
    "\n",
    "ax[4].set_xlabel(\"Number of Responses\", fontsize=6, \n",
    "                  fontfamily=\"arial\")\n",
    "\n",
    "plt.subplots_adjust(wspace=0, hspace=0)\n",
    "\n",
    "plt.savefig(\"a.png\", dpi=300, bbox_inches=\"tight\", pad_inches=0.01)"
   ]
  },
  {
   "cell_type": "code",
   "execution_count": 9,
   "id": "30324289-a359-4f97-b0fc-2e6b80b0606a",
   "metadata": {},
   "outputs": [],
   "source": [
    "answers = [\n",
    "    [9, 29, 2],\n",
    "    [6, 15, 19],\n",
    "    [11, 18, 11],\n",
    "    [3, 10, 27],\n",
    "    [10, 15, 15]\n",
    "]"
   ]
  },
  {
   "cell_type": "code",
   "execution_count": 10,
   "id": "7de6e681-b759-499c-b3e9-6b7cd343d806",
   "metadata": {},
   "outputs": [
    {
     "data": {
      "image/png": "[encoded data removed]",
      "text/plain": [
       "<Figure size 108x180 with 5 Axes>"
      ]
     },
     "metadata": {
      "needs_background": "light"
     },
     "output_type": "display_data"
    }
   ],
   "source": [
    "import matplotlib.pyplot as plt\n",
    "\n",
    "fig, ax = plt.subplots(5, 1, figsize=(1.5,2.5), sharex=True)\n",
    "\n",
    "for i,k in enumerate(ax):\n",
    "    ax[i].barh(range(0,3), answers[i])\n",
    "    ax[i].set_ylabel(f\"Q{i+1}\", fontsize=6, \n",
    "                  fontfamily=\"arial\", rotation=0)\n",
    "    ax[i].yaxis.set_label_position(\"right\")\n",
    "    \n",
    "    ax[i].set_yticks([0,1,2])\n",
    "    ax[i].set_yticklabels([\"Strongly Disagree\",\"Neutral\",\"Strongly Agree\"], fontsize=6, \n",
    "                       fontfamily=\"arial\", rotation=0)\n",
    "    ax[i].set_xticks([0, 5, 10, 15, 20, 25])\n",
    "    ax[i].set_xticklabels(ax[i].get_xticks(), fontsize=6, \n",
    "                       fontfamily=\"arial\")\n",
    "\n",
    "ax[4].set_xlabel(\"Number of Responses\", fontsize=6, \n",
    "                  fontfamily=\"arial\")\n",
    "\n",
    "plt.subplots_adjust(wspace=0, hspace=0)\n",
    "\n",
    "plt.savefig(\"year2.png\", dpi=300, bbox_inches=\"tight\", pad_inches=0.01)"
   ]
  },
  {
   "cell_type": "code",
   "execution_count": null,
   "id": "8f7814c0-6caf-4d61-b2ce-2e9376026db6",
   "metadata": {},
   "outputs": [],
   "source": []
  }
 ],
 "metadata": {
  "kernelspec": {
   "display_name": "Python 3 (ipykernel)",
   "language": "python",
   "name": "python3"
  },
  "language_info": {
   "codemirror_mode": {
    "name": "ipython",
    "version": 3
   },
   "file_extension": ".py",
   "mimetype": "text/x-python",
   "name": "python",
   "nbconvert_exporter": "python",
   "pygments_lexer": "ipython3",
   "version": "3.9.7"
  }
 },
 "nbformat": 4,
 "nbformat_minor": 5
}
